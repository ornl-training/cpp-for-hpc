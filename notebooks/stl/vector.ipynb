{
 "cells": [
  {
   "cell_type": "markdown",
   "metadata": {},
   "source": [
    "## **std::vector**\n",
    "\n",
    "`std::vector` is a container describing a contiguous piece of **\"typed\"** (_e.g._ `float`, `int`, custom objects) memory. Access can be done through indices, or iterators making it the preferred container to get performance in HPC systems due to its vectorization and cache friendly (zero per-element indexing overhead) characteristics. `std::vector` containers are heap-allocated allowing for flexible reallocations if required. For stack-allocated containers see `std::array`. \n",
    "\n",
    "In its simplest form it is a self-describing piece of contiguous memory with 3 underlying pointers that describe:\n",
    "\n",
    "- **data**: memory address\n",
    "- **size**: number of elements \n",
    "- **capacity**: allocated memory as number of elements (not bytes) >= size\n",
    "\n",
    "gcc and clang implementations of `std::vector` return a size of 24 bytes ( 3 x 8 bytes = pointer size) for `sizeof` accounting for pointers.\n",
    "\n",
    "`std::vector` object underlying contiguous memory representation:"
   ]
  },
  {
   "cell_type": "markdown",
   "metadata": {},
   "source": [
    "```\n",
    "|----------capacity()-------------------------------------------->|\n",
    "|----------size()---------------------->|\n",
    " \n",
    "|      logical valid region             |    undefined behavior   |\n",
    "|       initialized memory              |   uninitialized memory  |\n",
    "|_|_|_|_|_|_|_|_|_|_|_|_|_|_|_|_|_|_|_|_|X|X|X|X|X|X|X|X|X|X|X|X|X|\n",
    " ^                                       ^\n",
    " iterators:\n",
    " begin()                                 end()\n",
    " \n",
    " index:\n",
    " first: 0                              last: size()-1\n",
    " \n",
    " pointer:\n",
    " data() = 0x556d9d3b9170 = &v[0]\n",
    " \n",
    " |_| : element width from sizeof(T) in std::vector<T>\n",
    "```"
   ]
  },
  {
   "cell_type": "markdown",
   "metadata": {},
   "source": [
    "The main advantages of using a `std::vector` over raw pointers:\n",
    "- Self-describing, user must not reimplement and pass around size and capacity\n",
    "- Safe memory access via iterators and for-range loops\n",
    "- Minimize access to uninitialized memory\n",
    "- Default deallocation with RAII when out of scope, optional manual deallocation\n",
    "- Portability across algorithms relying on iterators\n",
    "\n",
    "Possible scenarios for using raw pointers could be:\n",
    "- Direct unsafe access to malloc'ed memory (always populated)\n",
    "- Small assembly footprint\n",
    "- Interoperability with C libraries\n",
    "- Lack of C++ compiler\n",
    "\n",
    "As usual, always measure your bottlenecks, but `std::vector` is [largely preferred over raw pointers for arrays](http://isocpp.github.io/CppCoreGuidelines/CppCoreGuidelines#Rsl-arrays). "
   ]
  },
  {
   "cell_type": "code",
   "execution_count": null,
   "metadata": {},
   "outputs": [],
   "source": [
    "// Example \n",
    "#include <vector>\n",
    "#include <iostream> // std::cout\n",
    "#include <cstdint> // std::int32_t\n",
    "\n",
    "std::vector<std::int32_t> myVector(4);\n",
    "// 3 pointers * 8 bytes/pointer\n",
    "std::cout << \"Sizeof of std::vector class object: \" << sizeof(myVector) << \"\\n\\n\";\n",
    "\n",
    "std::cout << \"myVector information:\\n\";\n",
    "std::cout << \"Data Address: \" << myVector.data() << \"\\n\";\n",
    "std::cout << \"Size:\" << myVector.size() << \" elements\\n\";\n",
    "std::cout << \"Capacity: \" << myVector.capacity() << \" elements\\n\";\n",
    "std::cout << \"Memory allocated: \" << sizeof(decltype(myVector.back())) * myVector.capacity() << \" bytes\\n\";\n",
    "std::cout << \"values: | \";\n",
    "std::for_each(myVector.cbegin(), myVector.cend(), [] (const auto v) {std::cout << v << \" | \";} );\n",
    "std::cout << \"\\n\\n\";"
   ]
  },
  {
   "cell_type": "markdown",
   "metadata": {},
   "source": [
    "# Managing std::vector allocation\n",
    "\n",
    "The size and capacity of a vector can be modified using the following functions to:\n",
    "\n",
    "1. increase capacity (allocate):\n",
    "- [reserve](https://en.cppreference.com/w/cpp/container/vector/reserve)\n",
    "\n",
    "2. modify size and initialize (if required increases capacity):\n",
    "- [std::vector<T,Allocator>::vector constructor](https://en.cppreference.com/w/cpp/container/vector/vector)\n",
    "- [resize](https://en.cppreference.com/w/cpp/container/vector/resize)\n",
    "- [push_back](https://en.cppreference.com/w/cpp/container/vector/push_back)\n",
    "- [emplace_back](https://en.cppreference.com/w/cpp/container/vector/emplace_back)\n",
    "- [assign](https://en.cppreference.com/w/cpp/container/vector/assign)\n",
    "\n",
    "3. reduce capacity (deallocate):\n",
    "- [swap](https://en.cppreference.com/w/cpp/container/vector/swap)\n",
    "- [operator=](https://en.cppreference.com/w/cpp/container/vector/operator%3D)\n",
    "- [shrink_to_fit](https://en.cppreference.com/w/cpp/container/vector/shrink_to_fit) (hint only)\n",
    "\n",
    "4. reduces size only (do not deallocate):\n",
    "- [clear](https://en.cppreference.com/w/cpp/container/vector/clear)\n",
    "- [erase](https://en.cppreference.com/w/cpp/container/vector/erase)\n"
   ]
  },
  {
   "cell_type": "markdown",
   "metadata": {},
   "source": [
    "**[reserve](https://en.cppreference.com/w/cpp/container/vector/reserve)**: increases the capacity to reserve memory for a certain number of elements, it **doesn't** modify the *size* neither does shrink current *capacity*. The new capacity will fit the requested number of elements without **initialization**. \n",
    "\n",
    "- Consider using **reserve** in HPC environments to control exact unintialized memory allocation costs.\n",
    "- Minimize the use of **reserve** per std::vector object. A single allocation is ideal, reallocations can be expensive as the operating system (OS) must deal with fragmented memory.\n",
    "\n",
    "For example:"
   ]
  },
  {
   "cell_type": "code",
   "execution_count": null,
   "metadata": {},
   "outputs": [],
   "source": [
    "std::cout << \"Capacity: \" << myVector.capacity() << \"\\n\";"
   ]
  },
  {
   "cell_type": "code",
   "execution_count": null,
   "metadata": {},
   "outputs": [],
   "source": [
    "myVector.reserve(6);\n",
    "std::cout << \"Capacity: \" << myVector.capacity() << \"\\n\\n\";"
   ]
  },
  {
   "cell_type": "markdown",
   "metadata": {},
   "source": [
    "**[resize](https://en.cppreference.com/w/cpp/container/vector/resize)**: increases or decreases the size, if necessary increases the capacity and initializes memory up to the new size. **Careful** must be taken in the latter as memory (capacity) growth is **implementation dependent** when using resize, which **must** be considered when programming with `std::vector` in a HPC environment due to the costs associated to memory allocation, deallocation and initialization.\n",
    "\n",
    "For example: "
   ]
  },
  {
   "cell_type": "code",
   "execution_count": null,
   "metadata": {},
   "outputs": [],
   "source": [
    "std::cout << \"Capacity: \" << myVector.capacity() << \"\\n\";\n",
    "std::cout << \"Size: \" << myVector.size() << \"\\n\\n\";"
   ]
  },
  {
   "cell_type": "code",
   "execution_count": null,
   "metadata": {},
   "outputs": [],
   "source": [
    "myVector.resize(5);\n",
    "std::cout << \"Capacity: \" << myVector.capacity() << \" unchanged\\n\";\n",
    "std::cout << \"Size: \" << myVector.size() << \" \\n\\n\";"
   ]
  },
  {
   "cell_type": "code",
   "execution_count": null,
   "metadata": {},
   "outputs": [],
   "source": [
    "myVector.resize(8);\n",
    "std::cout << \"Capacity: \" << myVector.capacity() << \" increased\\n\";\n",
    "std::cout << \"Size: \" << myVector.size() << \"\\n\\n\";"
   ]
  },
  {
   "cell_type": "code",
   "execution_count": null,
   "metadata": {},
   "outputs": [],
   "source": [
    "myVector.resize(15);\n",
    "std::cout << \"Capacity: \" << myVector.capacity() << \" increased and larger than requested Size\\n\";\n",
    "std::cout << \"Size: \" << myVector.size() << \"\\n\";"
   ]
  },
  {
   "cell_type": "markdown",
   "metadata": {},
   "source": [
    "In the current state of `myVector` memory access at myVector[15] is undefined behavior, some compilers (e.g. MSVC) flag accessing anywhere between *size* and *capacity* as an error, while others (gcc, clang) could be more permissive. Prefer using iterators for safe access with no penalty and incorporate memory sanitizers in your checks."
   ]
  },
  {
   "cell_type": "markdown",
   "metadata": {},
   "source": [
    "```\n",
    "contents:\n",
    "|0|0|0|0|0|0|0|0|0|0|0|0|0|0|X|...\n",
    "                             accessing myVector[ >= 15] is undefined behavior\n",
    "```"
   ]
  },
  {
   "cell_type": "markdown",
   "metadata": {},
   "source": [
    "**[std::vector<T,Allocator>::vector constructor](https://en.cppreference.com/w/cpp/container/vector/vector)**: std::vector constructors use by default the \"new\" allocator for contiguous memory allocation. In addition,  constructor overloads allocates to a certain size and capacity and initialize the memory to a default value for memory safety."
   ]
  },
  {
   "cell_type": "code",
   "execution_count": null,
   "metadata": {},
   "outputs": [],
   "source": [
    "std::vector<float> myFloats(10, 1.f); // size 10, values = 1.f\n",
    "\n",
    "std::cout << \"values: | \";\n",
    "std::for_each(myFloats.cbegin(), myFloats.cend(), [] (const auto v) {std::cout << v << \" | \";} );\n",
    "std::cout << \"\\n\\n\";"
   ]
  }
 ],
 "metadata": {
  "kernelspec": {
   "display_name": "C++17 [conda env:xeus-cling]",
   "language": "C++17",
   "name": "conda-env-xeus-cling-xcpp17"
  },
  "language_info": {
   "codemirror_mode": "text/x-c++src",
   "file_extension": ".cpp",
   "mimetype": "text/x-c++src",
   "name": "c++",
   "version": "17"
  }
 },
 "nbformat": 4,
 "nbformat_minor": 4
}
