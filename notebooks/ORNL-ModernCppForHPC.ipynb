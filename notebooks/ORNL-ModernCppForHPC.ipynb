{
 "cells": [
  {
   "cell_type": "markdown",
   "metadata": {},
   "source": [
    "![ORNL](../images/ornl-logo.png)\n",
    "\n",
    "ORNL’s training introduction to modern C++ for high-performance computing (HPC) applications. The goal is to expose the audience to the features of modern C++ and how they can be used and exploited considering performance aspects. We’d attempt to cover the gap between C++ general programming resources and computer science topics in HPC.\n",
    "\n",
    "Topics covered: memory management, input/output I/O, STL containers, RAII, parallel algorithms, move semantics, threads, combining MPI and modern C++, GPU programming using Nvidia CUDA and Thrust, and AMD ROC.\n",
    "\n",
    "Much of the material is from:\n",
    "\n",
    "- Strostroup's [The C++ Programming Language 4th Edition](https://www.stroustrup.com/4th.html)\n",
    "- [C++ core guidelines](https://isocpp.github.io/CppCoreGuidelines/CppCoreGuidelines)\n",
    "- [E4S open source software stack](https://e4s-project.github.io/Resources/ProductInfo.html)\n",
    "\n",
    "What this covers:\n",
    "  - Underlying performance concepts\n",
    "  - Modern C++ and performance implications\n",
    "  - Examples from open source implementations\n",
    "    \n",
    "What this tutorial doesn't contain:\n",
    "  - A basic programming syntax course\n",
    "  - Computer science research\n",
    "  - Hardware topics\n",
    "  \n"
   ]
  },
  {
   "cell_type": "markdown",
   "metadata": {},
   "source": [
    "**NOTE**: This notebook runs using the [C++17 xeus-cling jupyter kernel](https://github.com/jupyter-xeus/xeus-cling)"
   ]
  },
  {
   "cell_type": "markdown",
   "metadata": {},
   "source": [
    "# Contents\n",
    "\n",
    "Contents include:\n",
    "\n",
    "* Introduction\n",
    "  - C++ standards\n",
    "  - C still matters, but C++ is \"free\"\n",
    "  - C++ towards Exascale\n",
    "  - Summary and advice\n",
    "\n",
    "\n",
    "* Memory Management\n",
    "  - Memory model: pointers, allocation, alignment\n",
    "  - RAII\n",
    "  - C++11 move semantics\n",
    "  - C++11 Callable objects (e.g. functions)\n",
    "  - C++11 smart pointers: `std::unique_ptr` and `std::shared_ptr`\n",
    "  - C++17: `std::any`, `std::optional`, `std::variant`\n",
    "  - Error handling: exceptions and assert\n",
    "  - Summary and advice\n",
    "\n",
    "\n",
    "* The Standard Template Library (STL)\n",
    "  - Templates\n",
    "  - Containers, iterators\n",
    "  - [std::vector](./stl/vector.ipynb)\n",
    "  - `std::map`, `std::unordered_map`, `std::set`, `std::unordered_set`\n",
    "  - `std::multimap`\n",
    "  - `std::list`\n",
    "  - `std::deque`\n",
    "  - `<algorithm>`\n",
    "  - Summary and advice\n"
   ]
  }
 ],
 "metadata": {
  "kernelspec": {
   "display_name": "C++17 [conda env:cling-notebooks]",
   "language": "C++17",
   "name": "conda-env-cling-notebooks-xcpp17"
  },
  "language_info": {
   "codemirror_mode": "text/x-c++src",
   "file_extension": ".cpp",
   "mimetype": "text/x-c++src",
   "name": "c++",
   "version": "17"
  }
 },
 "nbformat": 4,
 "nbformat_minor": 4
}
